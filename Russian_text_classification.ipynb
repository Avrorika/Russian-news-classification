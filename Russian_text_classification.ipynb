{
  "nbformat": 4,
  "nbformat_minor": 0,
  "metadata": {
    "colab": {
      "name": "Russian text classification.ipynb",
      "provenance": [],
      "collapsed_sections": []
    },
    "kernelspec": {
      "name": "python3",
      "display_name": "Python 3"
    },
    "language_info": {
      "name": "python"
    }
  },
  "cells": [
    {
      "cell_type": "code",
      "execution_count": null,
      "metadata": {
        "id": "egOjZ0b8JrpY",
        "colab": {
          "base_uri": "https://localhost:8080/"
        },
        "outputId": "f12f3131-7262-44c6-b211-cf6c4b6c8a4f"
      },
      "outputs": [
        {
          "output_type": "stream",
          "name": "stdout",
          "text": [
            "[nltk_data] Downloading package punkt to /root/nltk_data...\n",
            "[nltk_data]   Unzipping tokenizers/punkt.zip.\n",
            "[nltk_data] Downloading package stopwords to /root/nltk_data...\n",
            "[nltk_data]   Unzipping corpora/stopwords.zip.\n",
            "[nltk_data] Downloading package wordnet to /root/nltk_data...\n",
            "[nltk_data]   Unzipping corpora/wordnet.zip.\n"
          ]
        }
      ],
      "source": [
        "import numpy as np\n",
        "import pandas as pd\n",
        "from sklearn.model_selection import train_test_split\n",
        "from sklearn.metrics import accuracy_score, recall_score, precision_score\n",
        "from sklearn.metrics import confusion_matrix\n",
        "import nltk\n",
        "from nltk.corpus import stopwords\n",
        "nltk.download('punkt')\n",
        "nltk.download(\"stopwords\")\n",
        "nltk.download('wordnet')\n",
        "import re\n",
        "from gensim.models import word2vec\n",
        "from sklearn.feature_extraction.text import CountVectorizer\n",
        "from sklearn.decomposition import TruncatedSVD\n",
        "from sklearn.pipeline import Pipeline\n",
        "import seaborn as sns\n",
        "import matplotlib.pyplot as plt\n",
        "from sklearn import svm, datasets"
      ]
    },
    {
      "cell_type": "code",
      "source": [
        "! mkdir ~/.kaggle\n",
        "! cp kaggle.json ~/.kaggle/\n",
        "! chmod 600 ~/.kaggle/kaggle.json"
      ],
      "metadata": {
        "id": "Vex-awUMFbXu",
        "colab": {
          "base_uri": "https://localhost:8080/"
        },
        "outputId": "903d5149-1cf8-40fe-fe64-de80bb6eb07c"
      },
      "execution_count": null,
      "outputs": [
        {
          "output_type": "stream",
          "name": "stdout",
          "text": [
            "mkdir: cannot create directory ‘/root/.kaggle’: File exists\n"
          ]
        }
      ]
    },
    {
      "cell_type": "code",
      "source": [
        "!kaggle datasets download -d yutkin/corpus-of-russian-news-articles-from-lenta"
      ],
      "metadata": {
        "colab": {
          "base_uri": "https://localhost:8080/"
        },
        "id": "e1tXuxZOFuP3",
        "outputId": "44b6fb29-8470-4b50-fdc5-968133252f0f"
      },
      "execution_count": null,
      "outputs": [
        {
          "output_type": "stream",
          "name": "stdout",
          "text": [
            "Downloading corpus-of-russian-news-articles-from-lenta.zip to /content\n",
            " 98% 572M/584M [00:10<00:00, 84.9MB/s]\n",
            "100% 584M/584M [00:10<00:00, 58.7MB/s]\n"
          ]
        }
      ]
    },
    {
      "cell_type": "code",
      "source": [
        "!unzip lenta-ru-news.zip"
      ],
      "metadata": {
        "colab": {
          "base_uri": "https://localhost:8080/"
        },
        "id": "Z1OiQYcjF8jF",
        "outputId": "97ac7652-1d6f-42d4-e15c-4fde2eb9ce97"
      },
      "execution_count": null,
      "outputs": [
        {
          "output_type": "stream",
          "name": "stdout",
          "text": [
            "Archive:  lenta-ru-news.zip\n",
            "  inflating: lenta-ru-news.csv       \n"
          ]
        }
      ]
    },
    {
      "cell_type": "code",
      "source": [
        "df=pd.read_csv(\"lenta-ru-news.csv\")"
      ],
      "metadata": {
        "colab": {
          "base_uri": "https://localhost:8080/"
        },
        "id": "RjebvJ3IYAuf",
        "outputId": "b80b0c5c-f2cc-47b8-94d3-f2f2bb37e374"
      },
      "execution_count": null,
      "outputs": [
        {
          "output_type": "stream",
          "name": "stderr",
          "text": [
            "/usr/local/lib/python3.7/dist-packages/IPython/core/interactiveshell.py:2882: DtypeWarning: Columns (3) have mixed types.Specify dtype option on import or set low_memory=False.\n",
            "  exec(code_obj, self.user_global_ns, self.user_ns)\n"
          ]
        }
      ]
    },
    {
      "cell_type": "code",
      "source": [
        "df.head()"
      ],
      "metadata": {
        "id": "8Rsr5mBehMvU",
        "colab": {
          "base_uri": "https://localhost:8080/",
          "height": 206
        },
        "outputId": "c3560101-8acc-4c5b-da37-1620d2e16447"
      },
      "execution_count": null,
      "outputs": [
        {
          "output_type": "execute_result",
          "data": {
            "text/html": [
              "\n",
              "  <div id=\"df-c3f603e3-aed5-4e51-8b34-7e8b26edca30\">\n",
              "    <div class=\"colab-df-container\">\n",
              "      <div>\n",
              "<style scoped>\n",
              "    .dataframe tbody tr th:only-of-type {\n",
              "        vertical-align: middle;\n",
              "    }\n",
              "\n",
              "    .dataframe tbody tr th {\n",
              "        vertical-align: top;\n",
              "    }\n",
              "\n",
              "    .dataframe thead th {\n",
              "        text-align: right;\n",
              "    }\n",
              "</style>\n",
              "<table border=\"1\" class=\"dataframe\">\n",
              "  <thead>\n",
              "    <tr style=\"text-align: right;\">\n",
              "      <th></th>\n",
              "      <th>url</th>\n",
              "      <th>title</th>\n",
              "      <th>text</th>\n",
              "      <th>topic</th>\n",
              "      <th>tags</th>\n",
              "      <th>date</th>\n",
              "    </tr>\n",
              "  </thead>\n",
              "  <tbody>\n",
              "    <tr>\n",
              "      <th>0</th>\n",
              "      <td>https://lenta.ru/news/1914/09/16/hungarnn/</td>\n",
              "      <td>1914. Русские войска вступили в пределы Венгрии</td>\n",
              "      <td>Бои у Сопоцкина и Друскеник закончились отступ...</td>\n",
              "      <td>Библиотека</td>\n",
              "      <td>Первая мировая</td>\n",
              "      <td>1914/09/16</td>\n",
              "    </tr>\n",
              "    <tr>\n",
              "      <th>1</th>\n",
              "      <td>https://lenta.ru/news/1914/09/16/lermontov/</td>\n",
              "      <td>1914. Празднование столетия М.Ю. Лермонтова от...</td>\n",
              "      <td>Министерство народного просвещения, в виду про...</td>\n",
              "      <td>Библиотека</td>\n",
              "      <td>Первая мировая</td>\n",
              "      <td>1914/09/16</td>\n",
              "    </tr>\n",
              "    <tr>\n",
              "      <th>2</th>\n",
              "      <td>https://lenta.ru/news/1914/09/17/nesteroff/</td>\n",
              "      <td>1914. Das ist Nesteroff!</td>\n",
              "      <td>Штабс-капитан П. Н. Нестеров на днях, увидев в...</td>\n",
              "      <td>Библиотека</td>\n",
              "      <td>Первая мировая</td>\n",
              "      <td>1914/09/17</td>\n",
              "    </tr>\n",
              "    <tr>\n",
              "      <th>3</th>\n",
              "      <td>https://lenta.ru/news/1914/09/17/bulldogn/</td>\n",
              "      <td>1914. Бульдог-гонец под Льежем</td>\n",
              "      <td>Фотограф-корреспондент Daily Mirror рассказыва...</td>\n",
              "      <td>Библиотека</td>\n",
              "      <td>Первая мировая</td>\n",
              "      <td>1914/09/17</td>\n",
              "    </tr>\n",
              "    <tr>\n",
              "      <th>4</th>\n",
              "      <td>https://lenta.ru/news/1914/09/18/zver/</td>\n",
              "      <td>1914. Под Люблином пойман швабский зверь</td>\n",
              "      <td>Лица, приехавшие в Варшаву из Люблина, передаю...</td>\n",
              "      <td>Библиотека</td>\n",
              "      <td>Первая мировая</td>\n",
              "      <td>1914/09/18</td>\n",
              "    </tr>\n",
              "  </tbody>\n",
              "</table>\n",
              "</div>\n",
              "      <button class=\"colab-df-convert\" onclick=\"convertToInteractive('df-c3f603e3-aed5-4e51-8b34-7e8b26edca30')\"\n",
              "              title=\"Convert this dataframe to an interactive table.\"\n",
              "              style=\"display:none;\">\n",
              "        \n",
              "  <svg xmlns=\"http://www.w3.org/2000/svg\" height=\"24px\"viewBox=\"0 0 24 24\"\n",
              "       width=\"24px\">\n",
              "    <path d=\"M0 0h24v24H0V0z\" fill=\"none\"/>\n",
              "    <path d=\"M18.56 5.44l.94 2.06.94-2.06 2.06-.94-2.06-.94-.94-2.06-.94 2.06-2.06.94zm-11 1L8.5 8.5l.94-2.06 2.06-.94-2.06-.94L8.5 2.5l-.94 2.06-2.06.94zm10 10l.94 2.06.94-2.06 2.06-.94-2.06-.94-.94-2.06-.94 2.06-2.06.94z\"/><path d=\"M17.41 7.96l-1.37-1.37c-.4-.4-.92-.59-1.43-.59-.52 0-1.04.2-1.43.59L10.3 9.45l-7.72 7.72c-.78.78-.78 2.05 0 2.83L4 21.41c.39.39.9.59 1.41.59.51 0 1.02-.2 1.41-.59l7.78-7.78 2.81-2.81c.8-.78.8-2.07 0-2.86zM5.41 20L4 18.59l7.72-7.72 1.47 1.35L5.41 20z\"/>\n",
              "  </svg>\n",
              "      </button>\n",
              "      \n",
              "  <style>\n",
              "    .colab-df-container {\n",
              "      display:flex;\n",
              "      flex-wrap:wrap;\n",
              "      gap: 12px;\n",
              "    }\n",
              "\n",
              "    .colab-df-convert {\n",
              "      background-color: #E8F0FE;\n",
              "      border: none;\n",
              "      border-radius: 50%;\n",
              "      cursor: pointer;\n",
              "      display: none;\n",
              "      fill: #1967D2;\n",
              "      height: 32px;\n",
              "      padding: 0 0 0 0;\n",
              "      width: 32px;\n",
              "    }\n",
              "\n",
              "    .colab-df-convert:hover {\n",
              "      background-color: #E2EBFA;\n",
              "      box-shadow: 0px 1px 2px rgba(60, 64, 67, 0.3), 0px 1px 3px 1px rgba(60, 64, 67, 0.15);\n",
              "      fill: #174EA6;\n",
              "    }\n",
              "\n",
              "    [theme=dark] .colab-df-convert {\n",
              "      background-color: #3B4455;\n",
              "      fill: #D2E3FC;\n",
              "    }\n",
              "\n",
              "    [theme=dark] .colab-df-convert:hover {\n",
              "      background-color: #434B5C;\n",
              "      box-shadow: 0px 1px 3px 1px rgba(0, 0, 0, 0.15);\n",
              "      filter: drop-shadow(0px 1px 2px rgba(0, 0, 0, 0.3));\n",
              "      fill: #FFFFFF;\n",
              "    }\n",
              "  </style>\n",
              "\n",
              "      <script>\n",
              "        const buttonEl =\n",
              "          document.querySelector('#df-c3f603e3-aed5-4e51-8b34-7e8b26edca30 button.colab-df-convert');\n",
              "        buttonEl.style.display =\n",
              "          google.colab.kernel.accessAllowed ? 'block' : 'none';\n",
              "\n",
              "        async function convertToInteractive(key) {\n",
              "          const element = document.querySelector('#df-c3f603e3-aed5-4e51-8b34-7e8b26edca30');\n",
              "          const dataTable =\n",
              "            await google.colab.kernel.invokeFunction('convertToInteractive',\n",
              "                                                     [key], {});\n",
              "          if (!dataTable) return;\n",
              "\n",
              "          const docLinkHtml = 'Like what you see? Visit the ' +\n",
              "            '<a target=\"_blank\" href=https://colab.research.google.com/notebooks/data_table.ipynb>data table notebook</a>'\n",
              "            + ' to learn more about interactive tables.';\n",
              "          element.innerHTML = '';\n",
              "          dataTable['output_type'] = 'display_data';\n",
              "          await google.colab.output.renderOutput(dataTable, element);\n",
              "          const docLink = document.createElement('div');\n",
              "          docLink.innerHTML = docLinkHtml;\n",
              "          element.appendChild(docLink);\n",
              "        }\n",
              "      </script>\n",
              "    </div>\n",
              "  </div>\n",
              "  "
            ],
            "text/plain": [
              "                                           url  ...        date\n",
              "0   https://lenta.ru/news/1914/09/16/hungarnn/  ...  1914/09/16\n",
              "1  https://lenta.ru/news/1914/09/16/lermontov/  ...  1914/09/16\n",
              "2  https://lenta.ru/news/1914/09/17/nesteroff/  ...  1914/09/17\n",
              "3   https://lenta.ru/news/1914/09/17/bulldogn/  ...  1914/09/17\n",
              "4       https://lenta.ru/news/1914/09/18/zver/  ...  1914/09/18\n",
              "\n",
              "[5 rows x 6 columns]"
            ]
          },
          "metadata": {},
          "execution_count": 9
        }
      ]
    },
    {
      "cell_type": "markdown",
      "source": [
        "Analytics of dataset\n"
      ],
      "metadata": {
        "id": "3D6Qr9K1hfsv"
      }
    },
    {
      "cell_type": "code",
      "source": [
        "df.shape"
      ],
      "metadata": {
        "colab": {
          "base_uri": "https://localhost:8080/"
        },
        "id": "hZ-cnhEV8JI2",
        "outputId": "04d81b6b-65b4-4531-fe99-4860410d99e2"
      },
      "execution_count": null,
      "outputs": [
        {
          "output_type": "execute_result",
          "data": {
            "text/plain": [
              "(800975, 6)"
            ]
          },
          "metadata": {},
          "execution_count": 30
        }
      ]
    },
    {
      "cell_type": "code",
      "source": [
        "df.isnull().sum()"
      ],
      "metadata": {
        "colab": {
          "base_uri": "https://localhost:8080/"
        },
        "id": "4yUR9CDS8SfR",
        "outputId": "f10f7fe8-46b8-43b7-8c9b-b3381633010a"
      },
      "execution_count": null,
      "outputs": [
        {
          "output_type": "execute_result",
          "data": {
            "text/plain": [
              "url          0\n",
              "title        0\n",
              "text         5\n",
              "topic    62002\n",
              "tags     27219\n",
              "date         0\n",
              "dtype: int64"
            ]
          },
          "metadata": {},
          "execution_count": 31
        }
      ]
    },
    {
      "cell_type": "code",
      "source": [
        "df.isna().sum()"
      ],
      "metadata": {
        "colab": {
          "base_uri": "https://localhost:8080/"
        },
        "id": "eMXlcQ1S8Uac",
        "outputId": "e6e34e1f-de44-4ca2-c642-812b5d2294e7"
      },
      "execution_count": null,
      "outputs": [
        {
          "output_type": "execute_result",
          "data": {
            "text/plain": [
              "url          0\n",
              "title        0\n",
              "text         5\n",
              "topic    62002\n",
              "tags     27219\n",
              "date         0\n",
              "dtype: int64"
            ]
          },
          "metadata": {},
          "execution_count": 32
        }
      ]
    },
    {
      "cell_type": "code",
      "source": [
        "df_cleaned=df.dropna(how='any')\n",
        "df_cleaned.shape"
      ],
      "metadata": {
        "colab": {
          "base_uri": "https://localhost:8080/"
        },
        "id": "ZUc86IHP8WgW",
        "outputId": "66ee8a41-9374-40f1-e8af-06836773019b"
      },
      "execution_count": null,
      "outputs": [
        {
          "output_type": "execute_result",
          "data": {
            "text/plain": [
              "(712654, 6)"
            ]
          },
          "metadata": {},
          "execution_count": 5
        }
      ]
    },
    {
      "cell_type": "code",
      "source": [
        "df_cleaned.isna().sum()"
      ],
      "metadata": {
        "colab": {
          "base_uri": "https://localhost:8080/"
        },
        "id": "EDWxb4MH8aeR",
        "outputId": "9ad1ee7e-c64f-4c30-da63-c5fa5590b891"
      },
      "execution_count": null,
      "outputs": [
        {
          "output_type": "execute_result",
          "data": {
            "text/plain": [
              "url      0\n",
              "title    0\n",
              "text     0\n",
              "topic    0\n",
              "tags     0\n",
              "date     0\n",
              "dtype: int64"
            ]
          },
          "metadata": {},
          "execution_count": 5
        }
      ]
    },
    {
      "cell_type": "code",
      "source": [
        "df_t=df_cleaned.groupby(by=\"topic\").count()\n",
        "df_t"
      ],
      "metadata": {
        "id": "vkdxkFPfhhnQ",
        "colab": {
          "base_uri": "https://localhost:8080/",
          "height": 802
        },
        "outputId": "4908134b-6955-4b44-8bef-ee6fe1f36a9a"
      },
      "execution_count": null,
      "outputs": [
        {
          "output_type": "execute_result",
          "data": {
            "text/html": [
              "\n",
              "  <div id=\"df-7f0b047d-b496-466b-b2b8-89e74efadf2b\">\n",
              "    <div class=\"colab-df-container\">\n",
              "      <div>\n",
              "<style scoped>\n",
              "    .dataframe tbody tr th:only-of-type {\n",
              "        vertical-align: middle;\n",
              "    }\n",
              "\n",
              "    .dataframe tbody tr th {\n",
              "        vertical-align: top;\n",
              "    }\n",
              "\n",
              "    .dataframe thead th {\n",
              "        text-align: right;\n",
              "    }\n",
              "</style>\n",
              "<table border=\"1\" class=\"dataframe\">\n",
              "  <thead>\n",
              "    <tr style=\"text-align: right;\">\n",
              "      <th></th>\n",
              "      <th>url</th>\n",
              "      <th>title</th>\n",
              "      <th>text</th>\n",
              "      <th>tags</th>\n",
              "      <th>date</th>\n",
              "    </tr>\n",
              "    <tr>\n",
              "      <th>topic</th>\n",
              "      <th></th>\n",
              "      <th></th>\n",
              "      <th></th>\n",
              "      <th></th>\n",
              "      <th></th>\n",
              "    </tr>\n",
              "  </thead>\n",
              "  <tbody>\n",
              "    <tr>\n",
              "      <th>69-я параллель</th>\n",
              "      <td>1268</td>\n",
              "      <td>1268</td>\n",
              "      <td>1268</td>\n",
              "      <td>1268</td>\n",
              "      <td>1268</td>\n",
              "    </tr>\n",
              "    <tr>\n",
              "      <th>Библиотека</th>\n",
              "      <td>65</td>\n",
              "      <td>65</td>\n",
              "      <td>65</td>\n",
              "      <td>65</td>\n",
              "      <td>65</td>\n",
              "    </tr>\n",
              "    <tr>\n",
              "      <th>Бизнес</th>\n",
              "      <td>7375</td>\n",
              "      <td>7375</td>\n",
              "      <td>7375</td>\n",
              "      <td>7375</td>\n",
              "      <td>7375</td>\n",
              "    </tr>\n",
              "    <tr>\n",
              "      <th>Бывший СССР</th>\n",
              "      <td>51370</td>\n",
              "      <td>51370</td>\n",
              "      <td>51370</td>\n",
              "      <td>51370</td>\n",
              "      <td>51370</td>\n",
              "    </tr>\n",
              "    <tr>\n",
              "      <th>Дом</th>\n",
              "      <td>21734</td>\n",
              "      <td>21734</td>\n",
              "      <td>21734</td>\n",
              "      <td>21734</td>\n",
              "      <td>21734</td>\n",
              "    </tr>\n",
              "    <tr>\n",
              "      <th>Из жизни</th>\n",
              "      <td>27513</td>\n",
              "      <td>27513</td>\n",
              "      <td>27513</td>\n",
              "      <td>27513</td>\n",
              "      <td>27513</td>\n",
              "    </tr>\n",
              "    <tr>\n",
              "      <th>Интернет и СМИ</th>\n",
              "      <td>44421</td>\n",
              "      <td>44421</td>\n",
              "      <td>44421</td>\n",
              "      <td>44421</td>\n",
              "      <td>44421</td>\n",
              "    </tr>\n",
              "    <tr>\n",
              "      <th>Крым</th>\n",
              "      <td>666</td>\n",
              "      <td>666</td>\n",
              "      <td>666</td>\n",
              "      <td>666</td>\n",
              "      <td>666</td>\n",
              "    </tr>\n",
              "    <tr>\n",
              "      <th>Культпросвет</th>\n",
              "      <td>340</td>\n",
              "      <td>340</td>\n",
              "      <td>340</td>\n",
              "      <td>340</td>\n",
              "      <td>340</td>\n",
              "    </tr>\n",
              "    <tr>\n",
              "      <th>Культура</th>\n",
              "      <td>53530</td>\n",
              "      <td>53530</td>\n",
              "      <td>53530</td>\n",
              "      <td>53530</td>\n",
              "      <td>53530</td>\n",
              "    </tr>\n",
              "    <tr>\n",
              "      <th>Легпром</th>\n",
              "      <td>114</td>\n",
              "      <td>114</td>\n",
              "      <td>114</td>\n",
              "      <td>114</td>\n",
              "      <td>114</td>\n",
              "    </tr>\n",
              "    <tr>\n",
              "      <th>МедНовости</th>\n",
              "      <td>1</td>\n",
              "      <td>1</td>\n",
              "      <td>1</td>\n",
              "      <td>1</td>\n",
              "      <td>1</td>\n",
              "    </tr>\n",
              "    <tr>\n",
              "      <th>Мир</th>\n",
              "      <td>136620</td>\n",
              "      <td>136620</td>\n",
              "      <td>136620</td>\n",
              "      <td>136620</td>\n",
              "      <td>136620</td>\n",
              "    </tr>\n",
              "    <tr>\n",
              "      <th>Наука и техника</th>\n",
              "      <td>53136</td>\n",
              "      <td>53136</td>\n",
              "      <td>53136</td>\n",
              "      <td>53136</td>\n",
              "      <td>53136</td>\n",
              "    </tr>\n",
              "    <tr>\n",
              "      <th>Оружие</th>\n",
              "      <td>3</td>\n",
              "      <td>3</td>\n",
              "      <td>3</td>\n",
              "      <td>3</td>\n",
              "      <td>3</td>\n",
              "    </tr>\n",
              "    <tr>\n",
              "      <th>Путешествия</th>\n",
              "      <td>6370</td>\n",
              "      <td>6370</td>\n",
              "      <td>6370</td>\n",
              "      <td>6370</td>\n",
              "      <td>6370</td>\n",
              "    </tr>\n",
              "    <tr>\n",
              "      <th>Россия</th>\n",
              "      <td>155004</td>\n",
              "      <td>155004</td>\n",
              "      <td>155004</td>\n",
              "      <td>155004</td>\n",
              "      <td>155004</td>\n",
              "    </tr>\n",
              "    <tr>\n",
              "      <th>Силовые структуры</th>\n",
              "      <td>11223</td>\n",
              "      <td>11223</td>\n",
              "      <td>11223</td>\n",
              "      <td>11223</td>\n",
              "      <td>11223</td>\n",
              "    </tr>\n",
              "    <tr>\n",
              "      <th>Сочи</th>\n",
              "      <td>1</td>\n",
              "      <td>1</td>\n",
              "      <td>1</td>\n",
              "      <td>1</td>\n",
              "      <td>1</td>\n",
              "    </tr>\n",
              "    <tr>\n",
              "      <th>Спорт</th>\n",
              "      <td>57894</td>\n",
              "      <td>57894</td>\n",
              "      <td>57894</td>\n",
              "      <td>57894</td>\n",
              "      <td>57894</td>\n",
              "    </tr>\n",
              "    <tr>\n",
              "      <th>Ценности</th>\n",
              "      <td>7581</td>\n",
              "      <td>7581</td>\n",
              "      <td>7581</td>\n",
              "      <td>7581</td>\n",
              "      <td>7581</td>\n",
              "    </tr>\n",
              "    <tr>\n",
              "      <th>ЧМ-2014</th>\n",
              "      <td>2</td>\n",
              "      <td>2</td>\n",
              "      <td>2</td>\n",
              "      <td>2</td>\n",
              "      <td>2</td>\n",
              "    </tr>\n",
              "    <tr>\n",
              "      <th>Экономика</th>\n",
              "      <td>76423</td>\n",
              "      <td>76423</td>\n",
              "      <td>76423</td>\n",
              "      <td>76423</td>\n",
              "      <td>76423</td>\n",
              "    </tr>\n",
              "  </tbody>\n",
              "</table>\n",
              "</div>\n",
              "      <button class=\"colab-df-convert\" onclick=\"convertToInteractive('df-7f0b047d-b496-466b-b2b8-89e74efadf2b')\"\n",
              "              title=\"Convert this dataframe to an interactive table.\"\n",
              "              style=\"display:none;\">\n",
              "        \n",
              "  <svg xmlns=\"http://www.w3.org/2000/svg\" height=\"24px\"viewBox=\"0 0 24 24\"\n",
              "       width=\"24px\">\n",
              "    <path d=\"M0 0h24v24H0V0z\" fill=\"none\"/>\n",
              "    <path d=\"M18.56 5.44l.94 2.06.94-2.06 2.06-.94-2.06-.94-.94-2.06-.94 2.06-2.06.94zm-11 1L8.5 8.5l.94-2.06 2.06-.94-2.06-.94L8.5 2.5l-.94 2.06-2.06.94zm10 10l.94 2.06.94-2.06 2.06-.94-2.06-.94-.94-2.06-.94 2.06-2.06.94z\"/><path d=\"M17.41 7.96l-1.37-1.37c-.4-.4-.92-.59-1.43-.59-.52 0-1.04.2-1.43.59L10.3 9.45l-7.72 7.72c-.78.78-.78 2.05 0 2.83L4 21.41c.39.39.9.59 1.41.59.51 0 1.02-.2 1.41-.59l7.78-7.78 2.81-2.81c.8-.78.8-2.07 0-2.86zM5.41 20L4 18.59l7.72-7.72 1.47 1.35L5.41 20z\"/>\n",
              "  </svg>\n",
              "      </button>\n",
              "      \n",
              "  <style>\n",
              "    .colab-df-container {\n",
              "      display:flex;\n",
              "      flex-wrap:wrap;\n",
              "      gap: 12px;\n",
              "    }\n",
              "\n",
              "    .colab-df-convert {\n",
              "      background-color: #E8F0FE;\n",
              "      border: none;\n",
              "      border-radius: 50%;\n",
              "      cursor: pointer;\n",
              "      display: none;\n",
              "      fill: #1967D2;\n",
              "      height: 32px;\n",
              "      padding: 0 0 0 0;\n",
              "      width: 32px;\n",
              "    }\n",
              "\n",
              "    .colab-df-convert:hover {\n",
              "      background-color: #E2EBFA;\n",
              "      box-shadow: 0px 1px 2px rgba(60, 64, 67, 0.3), 0px 1px 3px 1px rgba(60, 64, 67, 0.15);\n",
              "      fill: #174EA6;\n",
              "    }\n",
              "\n",
              "    [theme=dark] .colab-df-convert {\n",
              "      background-color: #3B4455;\n",
              "      fill: #D2E3FC;\n",
              "    }\n",
              "\n",
              "    [theme=dark] .colab-df-convert:hover {\n",
              "      background-color: #434B5C;\n",
              "      box-shadow: 0px 1px 3px 1px rgba(0, 0, 0, 0.15);\n",
              "      filter: drop-shadow(0px 1px 2px rgba(0, 0, 0, 0.3));\n",
              "      fill: #FFFFFF;\n",
              "    }\n",
              "  </style>\n",
              "\n",
              "      <script>\n",
              "        const buttonEl =\n",
              "          document.querySelector('#df-7f0b047d-b496-466b-b2b8-89e74efadf2b button.colab-df-convert');\n",
              "        buttonEl.style.display =\n",
              "          google.colab.kernel.accessAllowed ? 'block' : 'none';\n",
              "\n",
              "        async function convertToInteractive(key) {\n",
              "          const element = document.querySelector('#df-7f0b047d-b496-466b-b2b8-89e74efadf2b');\n",
              "          const dataTable =\n",
              "            await google.colab.kernel.invokeFunction('convertToInteractive',\n",
              "                                                     [key], {});\n",
              "          if (!dataTable) return;\n",
              "\n",
              "          const docLinkHtml = 'Like what you see? Visit the ' +\n",
              "            '<a target=\"_blank\" href=https://colab.research.google.com/notebooks/data_table.ipynb>data table notebook</a>'\n",
              "            + ' to learn more about interactive tables.';\n",
              "          element.innerHTML = '';\n",
              "          dataTable['output_type'] = 'display_data';\n",
              "          await google.colab.output.renderOutput(dataTable, element);\n",
              "          const docLink = document.createElement('div');\n",
              "          docLink.innerHTML = docLinkHtml;\n",
              "          element.appendChild(docLink);\n",
              "        }\n",
              "      </script>\n",
              "    </div>\n",
              "  </div>\n",
              "  "
            ],
            "text/plain": [
              "                      url   title    text    tags    date\n",
              "topic                                                    \n",
              "69-я параллель       1268    1268    1268    1268    1268\n",
              "Библиотека             65      65      65      65      65\n",
              "Бизнес               7375    7375    7375    7375    7375\n",
              "Бывший СССР         51370   51370   51370   51370   51370\n",
              "Дом                 21734   21734   21734   21734   21734\n",
              "Из жизни            27513   27513   27513   27513   27513\n",
              "Интернет и СМИ      44421   44421   44421   44421   44421\n",
              "Крым                  666     666     666     666     666\n",
              "Культпросвет          340     340     340     340     340\n",
              "Культура            53530   53530   53530   53530   53530\n",
              "Легпром               114     114     114     114     114\n",
              "МедНовости              1       1       1       1       1\n",
              "Мир                136620  136620  136620  136620  136620\n",
              "Наука и техника     53136   53136   53136   53136   53136\n",
              "Оружие                  3       3       3       3       3\n",
              "Путешествия          6370    6370    6370    6370    6370\n",
              "Россия             155004  155004  155004  155004  155004\n",
              "Силовые структуры   11223   11223   11223   11223   11223\n",
              "Сочи                    1       1       1       1       1\n",
              "Спорт               57894   57894   57894   57894   57894\n",
              "Ценности             7581    7581    7581    7581    7581\n",
              "ЧМ-2014                 2       2       2       2       2\n",
              "Экономика           76423   76423   76423   76423   76423"
            ]
          },
          "metadata": {},
          "execution_count": 4
        }
      ]
    },
    {
      "cell_type": "code",
      "source": [
        "df_sorted= df_t.sort_values(by=\"title\", ascending=False)\n",
        "df_sorted"
      ],
      "metadata": {
        "colab": {
          "base_uri": "https://localhost:8080/",
          "height": 802
        },
        "id": "FctsBSQQ-D1o",
        "outputId": "8af067d6-06ac-4cc6-adc4-684e053b3660"
      },
      "execution_count": null,
      "outputs": [
        {
          "output_type": "execute_result",
          "data": {
            "text/html": [
              "\n",
              "  <div id=\"df-1351d52e-cc0c-4760-ad19-5b7048dd699c\">\n",
              "    <div class=\"colab-df-container\">\n",
              "      <div>\n",
              "<style scoped>\n",
              "    .dataframe tbody tr th:only-of-type {\n",
              "        vertical-align: middle;\n",
              "    }\n",
              "\n",
              "    .dataframe tbody tr th {\n",
              "        vertical-align: top;\n",
              "    }\n",
              "\n",
              "    .dataframe thead th {\n",
              "        text-align: right;\n",
              "    }\n",
              "</style>\n",
              "<table border=\"1\" class=\"dataframe\">\n",
              "  <thead>\n",
              "    <tr style=\"text-align: right;\">\n",
              "      <th></th>\n",
              "      <th>url</th>\n",
              "      <th>title</th>\n",
              "      <th>text</th>\n",
              "      <th>tags</th>\n",
              "      <th>date</th>\n",
              "    </tr>\n",
              "    <tr>\n",
              "      <th>topic</th>\n",
              "      <th></th>\n",
              "      <th></th>\n",
              "      <th></th>\n",
              "      <th></th>\n",
              "      <th></th>\n",
              "    </tr>\n",
              "  </thead>\n",
              "  <tbody>\n",
              "    <tr>\n",
              "      <th>Россия</th>\n",
              "      <td>155004</td>\n",
              "      <td>155004</td>\n",
              "      <td>155004</td>\n",
              "      <td>155004</td>\n",
              "      <td>155004</td>\n",
              "    </tr>\n",
              "    <tr>\n",
              "      <th>Мир</th>\n",
              "      <td>136620</td>\n",
              "      <td>136620</td>\n",
              "      <td>136620</td>\n",
              "      <td>136620</td>\n",
              "      <td>136620</td>\n",
              "    </tr>\n",
              "    <tr>\n",
              "      <th>Экономика</th>\n",
              "      <td>76423</td>\n",
              "      <td>76423</td>\n",
              "      <td>76423</td>\n",
              "      <td>76423</td>\n",
              "      <td>76423</td>\n",
              "    </tr>\n",
              "    <tr>\n",
              "      <th>Спорт</th>\n",
              "      <td>57894</td>\n",
              "      <td>57894</td>\n",
              "      <td>57894</td>\n",
              "      <td>57894</td>\n",
              "      <td>57894</td>\n",
              "    </tr>\n",
              "    <tr>\n",
              "      <th>Культура</th>\n",
              "      <td>53530</td>\n",
              "      <td>53530</td>\n",
              "      <td>53530</td>\n",
              "      <td>53530</td>\n",
              "      <td>53530</td>\n",
              "    </tr>\n",
              "    <tr>\n",
              "      <th>Наука и техника</th>\n",
              "      <td>53136</td>\n",
              "      <td>53136</td>\n",
              "      <td>53136</td>\n",
              "      <td>53136</td>\n",
              "      <td>53136</td>\n",
              "    </tr>\n",
              "    <tr>\n",
              "      <th>Бывший СССР</th>\n",
              "      <td>51370</td>\n",
              "      <td>51370</td>\n",
              "      <td>51370</td>\n",
              "      <td>51370</td>\n",
              "      <td>51370</td>\n",
              "    </tr>\n",
              "    <tr>\n",
              "      <th>Интернет и СМИ</th>\n",
              "      <td>44421</td>\n",
              "      <td>44421</td>\n",
              "      <td>44421</td>\n",
              "      <td>44421</td>\n",
              "      <td>44421</td>\n",
              "    </tr>\n",
              "    <tr>\n",
              "      <th>Из жизни</th>\n",
              "      <td>27513</td>\n",
              "      <td>27513</td>\n",
              "      <td>27513</td>\n",
              "      <td>27513</td>\n",
              "      <td>27513</td>\n",
              "    </tr>\n",
              "    <tr>\n",
              "      <th>Дом</th>\n",
              "      <td>21734</td>\n",
              "      <td>21734</td>\n",
              "      <td>21734</td>\n",
              "      <td>21734</td>\n",
              "      <td>21734</td>\n",
              "    </tr>\n",
              "    <tr>\n",
              "      <th>Силовые структуры</th>\n",
              "      <td>11223</td>\n",
              "      <td>11223</td>\n",
              "      <td>11223</td>\n",
              "      <td>11223</td>\n",
              "      <td>11223</td>\n",
              "    </tr>\n",
              "    <tr>\n",
              "      <th>Ценности</th>\n",
              "      <td>7581</td>\n",
              "      <td>7581</td>\n",
              "      <td>7581</td>\n",
              "      <td>7581</td>\n",
              "      <td>7581</td>\n",
              "    </tr>\n",
              "    <tr>\n",
              "      <th>Бизнес</th>\n",
              "      <td>7375</td>\n",
              "      <td>7375</td>\n",
              "      <td>7375</td>\n",
              "      <td>7375</td>\n",
              "      <td>7375</td>\n",
              "    </tr>\n",
              "    <tr>\n",
              "      <th>Путешествия</th>\n",
              "      <td>6370</td>\n",
              "      <td>6370</td>\n",
              "      <td>6370</td>\n",
              "      <td>6370</td>\n",
              "      <td>6370</td>\n",
              "    </tr>\n",
              "    <tr>\n",
              "      <th>69-я параллель</th>\n",
              "      <td>1268</td>\n",
              "      <td>1268</td>\n",
              "      <td>1268</td>\n",
              "      <td>1268</td>\n",
              "      <td>1268</td>\n",
              "    </tr>\n",
              "    <tr>\n",
              "      <th>Крым</th>\n",
              "      <td>666</td>\n",
              "      <td>666</td>\n",
              "      <td>666</td>\n",
              "      <td>666</td>\n",
              "      <td>666</td>\n",
              "    </tr>\n",
              "    <tr>\n",
              "      <th>Культпросвет</th>\n",
              "      <td>340</td>\n",
              "      <td>340</td>\n",
              "      <td>340</td>\n",
              "      <td>340</td>\n",
              "      <td>340</td>\n",
              "    </tr>\n",
              "    <tr>\n",
              "      <th>Легпром</th>\n",
              "      <td>114</td>\n",
              "      <td>114</td>\n",
              "      <td>114</td>\n",
              "      <td>114</td>\n",
              "      <td>114</td>\n",
              "    </tr>\n",
              "    <tr>\n",
              "      <th>Библиотека</th>\n",
              "      <td>65</td>\n",
              "      <td>65</td>\n",
              "      <td>65</td>\n",
              "      <td>65</td>\n",
              "      <td>65</td>\n",
              "    </tr>\n",
              "    <tr>\n",
              "      <th>Оружие</th>\n",
              "      <td>3</td>\n",
              "      <td>3</td>\n",
              "      <td>3</td>\n",
              "      <td>3</td>\n",
              "      <td>3</td>\n",
              "    </tr>\n",
              "    <tr>\n",
              "      <th>ЧМ-2014</th>\n",
              "      <td>2</td>\n",
              "      <td>2</td>\n",
              "      <td>2</td>\n",
              "      <td>2</td>\n",
              "      <td>2</td>\n",
              "    </tr>\n",
              "    <tr>\n",
              "      <th>Сочи</th>\n",
              "      <td>1</td>\n",
              "      <td>1</td>\n",
              "      <td>1</td>\n",
              "      <td>1</td>\n",
              "      <td>1</td>\n",
              "    </tr>\n",
              "    <tr>\n",
              "      <th>МедНовости</th>\n",
              "      <td>1</td>\n",
              "      <td>1</td>\n",
              "      <td>1</td>\n",
              "      <td>1</td>\n",
              "      <td>1</td>\n",
              "    </tr>\n",
              "  </tbody>\n",
              "</table>\n",
              "</div>\n",
              "      <button class=\"colab-df-convert\" onclick=\"convertToInteractive('df-1351d52e-cc0c-4760-ad19-5b7048dd699c')\"\n",
              "              title=\"Convert this dataframe to an interactive table.\"\n",
              "              style=\"display:none;\">\n",
              "        \n",
              "  <svg xmlns=\"http://www.w3.org/2000/svg\" height=\"24px\"viewBox=\"0 0 24 24\"\n",
              "       width=\"24px\">\n",
              "    <path d=\"M0 0h24v24H0V0z\" fill=\"none\"/>\n",
              "    <path d=\"M18.56 5.44l.94 2.06.94-2.06 2.06-.94-2.06-.94-.94-2.06-.94 2.06-2.06.94zm-11 1L8.5 8.5l.94-2.06 2.06-.94-2.06-.94L8.5 2.5l-.94 2.06-2.06.94zm10 10l.94 2.06.94-2.06 2.06-.94-2.06-.94-.94-2.06-.94 2.06-2.06.94z\"/><path d=\"M17.41 7.96l-1.37-1.37c-.4-.4-.92-.59-1.43-.59-.52 0-1.04.2-1.43.59L10.3 9.45l-7.72 7.72c-.78.78-.78 2.05 0 2.83L4 21.41c.39.39.9.59 1.41.59.51 0 1.02-.2 1.41-.59l7.78-7.78 2.81-2.81c.8-.78.8-2.07 0-2.86zM5.41 20L4 18.59l7.72-7.72 1.47 1.35L5.41 20z\"/>\n",
              "  </svg>\n",
              "      </button>\n",
              "      \n",
              "  <style>\n",
              "    .colab-df-container {\n",
              "      display:flex;\n",
              "      flex-wrap:wrap;\n",
              "      gap: 12px;\n",
              "    }\n",
              "\n",
              "    .colab-df-convert {\n",
              "      background-color: #E8F0FE;\n",
              "      border: none;\n",
              "      border-radius: 50%;\n",
              "      cursor: pointer;\n",
              "      display: none;\n",
              "      fill: #1967D2;\n",
              "      height: 32px;\n",
              "      padding: 0 0 0 0;\n",
              "      width: 32px;\n",
              "    }\n",
              "\n",
              "    .colab-df-convert:hover {\n",
              "      background-color: #E2EBFA;\n",
              "      box-shadow: 0px 1px 2px rgba(60, 64, 67, 0.3), 0px 1px 3px 1px rgba(60, 64, 67, 0.15);\n",
              "      fill: #174EA6;\n",
              "    }\n",
              "\n",
              "    [theme=dark] .colab-df-convert {\n",
              "      background-color: #3B4455;\n",
              "      fill: #D2E3FC;\n",
              "    }\n",
              "\n",
              "    [theme=dark] .colab-df-convert:hover {\n",
              "      background-color: #434B5C;\n",
              "      box-shadow: 0px 1px 3px 1px rgba(0, 0, 0, 0.15);\n",
              "      filter: drop-shadow(0px 1px 2px rgba(0, 0, 0, 0.3));\n",
              "      fill: #FFFFFF;\n",
              "    }\n",
              "  </style>\n",
              "\n",
              "      <script>\n",
              "        const buttonEl =\n",
              "          document.querySelector('#df-1351d52e-cc0c-4760-ad19-5b7048dd699c button.colab-df-convert');\n",
              "        buttonEl.style.display =\n",
              "          google.colab.kernel.accessAllowed ? 'block' : 'none';\n",
              "\n",
              "        async function convertToInteractive(key) {\n",
              "          const element = document.querySelector('#df-1351d52e-cc0c-4760-ad19-5b7048dd699c');\n",
              "          const dataTable =\n",
              "            await google.colab.kernel.invokeFunction('convertToInteractive',\n",
              "                                                     [key], {});\n",
              "          if (!dataTable) return;\n",
              "\n",
              "          const docLinkHtml = 'Like what you see? Visit the ' +\n",
              "            '<a target=\"_blank\" href=https://colab.research.google.com/notebooks/data_table.ipynb>data table notebook</a>'\n",
              "            + ' to learn more about interactive tables.';\n",
              "          element.innerHTML = '';\n",
              "          dataTable['output_type'] = 'display_data';\n",
              "          await google.colab.output.renderOutput(dataTable, element);\n",
              "          const docLink = document.createElement('div');\n",
              "          docLink.innerHTML = docLinkHtml;\n",
              "          element.appendChild(docLink);\n",
              "        }\n",
              "      </script>\n",
              "    </div>\n",
              "  </div>\n",
              "  "
            ],
            "text/plain": [
              "                      url   title    text    tags    date\n",
              "topic                                                    \n",
              "Россия             155004  155004  155004  155004  155004\n",
              "Мир                136620  136620  136620  136620  136620\n",
              "Экономика           76423   76423   76423   76423   76423\n",
              "Спорт               57894   57894   57894   57894   57894\n",
              "Культура            53530   53530   53530   53530   53530\n",
              "Наука и техника     53136   53136   53136   53136   53136\n",
              "Бывший СССР         51370   51370   51370   51370   51370\n",
              "Интернет и СМИ      44421   44421   44421   44421   44421\n",
              "Из жизни            27513   27513   27513   27513   27513\n",
              "Дом                 21734   21734   21734   21734   21734\n",
              "Силовые структуры   11223   11223   11223   11223   11223\n",
              "Ценности             7581    7581    7581    7581    7581\n",
              "Бизнес               7375    7375    7375    7375    7375\n",
              "Путешествия          6370    6370    6370    6370    6370\n",
              "69-я параллель       1268    1268    1268    1268    1268\n",
              "Крым                  666     666     666     666     666\n",
              "Культпросвет          340     340     340     340     340\n",
              "Легпром               114     114     114     114     114\n",
              "Библиотека             65      65      65      65      65\n",
              "Оружие                  3       3       3       3       3\n",
              "ЧМ-2014                 2       2       2       2       2\n",
              "Сочи                    1       1       1       1       1\n",
              "МедНовости              1       1       1       1       1"
            ]
          },
          "metadata": {},
          "execution_count": 5
        }
      ]
    },
    {
      "cell_type": "code",
      "source": [
        "index= df_sorted.index.values"
      ],
      "metadata": {
        "id": "LF4VDIyBAAOe"
      },
      "execution_count": null,
      "outputs": []
    },
    {
      "cell_type": "code",
      "source": [
        "plt.figure(figsize=(10, 8))\n",
        "plt.bar(x=index, height=df_sorted[\"title\"], alpha = 0.5, color = \"#DA70D6\", label = \"Распределение текстов по темам\")\n",
        "plt.legend()\n",
        "plt.xlabel (\"Темы\", size=14)\n",
        "plt.ylabel (\"Количество текстов\", size=14)\n",
        "plt.xticks(rotation=90)\n",
        "\n",
        "plt.show()"
      ],
      "metadata": {
        "id": "mRX-8TAGhky2",
        "colab": {
          "base_uri": "https://localhost:8080/",
          "height": 595
        },
        "outputId": "c2c814c5-5142-4b1a-d55e-f9a85afac1e8"
      },
      "execution_count": null,
      "outputs": [
        {
          "output_type": "display_data",
          "data": {
            "image/png": "[encoded data removed]",
            "text/plain": [
              "<Figure size 720x576 with 1 Axes>"
            ]
          },
          "metadata": {
            "needs_background": "light"
          }
        }
      ]
    },
    {
      "cell_type": "markdown",
      "source": [
        "Preparation of the dataset: cleaning, removing of stop words."
      ],
      "metadata": {
        "id": "UtophqnGK9Jw"
      }
    },
    {
      "cell_type": "code",
      "source": [
        "df_cleaned = df_cleaned.set_index(['topic'])\n",
        "df_cleaned.head()\n"
      ],
      "metadata": {
        "colab": {
          "base_uri": "https://localhost:8080/",
          "height": 238
        },
        "id": "G0l0a47fCMCJ",
        "outputId": "62880788-bace-4646-e546-3c344c6b47cd"
      },
      "execution_count": null,
      "outputs": [
        {
          "output_type": "execute_result",
          "data": {
            "text/html": [
              "\n",
              "  <div id=\"df-fbc04dd8-d6ee-43b4-bfb1-a0b5a34ac501\">\n",
              "    <div class=\"colab-df-container\">\n",
              "      <div>\n",
              "<style scoped>\n",
              "    .dataframe tbody tr th:only-of-type {\n",
              "        vertical-align: middle;\n",
              "    }\n",
              "\n",
              "    .dataframe tbody tr th {\n",
              "        vertical-align: top;\n",
              "    }\n",
              "\n",
              "    .dataframe thead th {\n",
              "        text-align: right;\n",
              "    }\n",
              "</style>\n",
              "<table border=\"1\" class=\"dataframe\">\n",
              "  <thead>\n",
              "    <tr style=\"text-align: right;\">\n",
              "      <th></th>\n",
              "      <th>url</th>\n",
              "      <th>title</th>\n",
              "      <th>text</th>\n",
              "      <th>tags</th>\n",
              "      <th>date</th>\n",
              "    </tr>\n",
              "    <tr>\n",
              "      <th>topic</th>\n",
              "      <th></th>\n",
              "      <th></th>\n",
              "      <th></th>\n",
              "      <th></th>\n",
              "      <th></th>\n",
              "    </tr>\n",
              "  </thead>\n",
              "  <tbody>\n",
              "    <tr>\n",
              "      <th>Библиотека</th>\n",
              "      <td>https://lenta.ru/news/1914/09/16/hungarnn/</td>\n",
              "      <td>1914. Русские войска вступили в пределы Венгрии</td>\n",
              "      <td>Бои у Сопоцкина и Друскеник закончились отступ...</td>\n",
              "      <td>Первая мировая</td>\n",
              "      <td>1914/09/16</td>\n",
              "    </tr>\n",
              "    <tr>\n",
              "      <th>Библиотека</th>\n",
              "      <td>https://lenta.ru/news/1914/09/16/lermontov/</td>\n",
              "      <td>1914. Празднование столетия М.Ю. Лермонтова от...</td>\n",
              "      <td>Министерство народного просвещения, в виду про...</td>\n",
              "      <td>Первая мировая</td>\n",
              "      <td>1914/09/16</td>\n",
              "    </tr>\n",
              "    <tr>\n",
              "      <th>Библиотека</th>\n",
              "      <td>https://lenta.ru/news/1914/09/17/nesteroff/</td>\n",
              "      <td>1914. Das ist Nesteroff!</td>\n",
              "      <td>Штабс-капитан П. Н. Нестеров на днях, увидев в...</td>\n",
              "      <td>Первая мировая</td>\n",
              "      <td>1914/09/17</td>\n",
              "    </tr>\n",
              "    <tr>\n",
              "      <th>Библиотека</th>\n",
              "      <td>https://lenta.ru/news/1914/09/17/bulldogn/</td>\n",
              "      <td>1914. Бульдог-гонец под Льежем</td>\n",
              "      <td>Фотограф-корреспондент Daily Mirror рассказыва...</td>\n",
              "      <td>Первая мировая</td>\n",
              "      <td>1914/09/17</td>\n",
              "    </tr>\n",
              "    <tr>\n",
              "      <th>Библиотека</th>\n",
              "      <td>https://lenta.ru/news/1914/09/18/zver/</td>\n",
              "      <td>1914. Под Люблином пойман швабский зверь</td>\n",
              "      <td>Лица, приехавшие в Варшаву из Люблина, передаю...</td>\n",
              "      <td>Первая мировая</td>\n",
              "      <td>1914/09/18</td>\n",
              "    </tr>\n",
              "  </tbody>\n",
              "</table>\n",
              "</div>\n",
              "      <button class=\"colab-df-convert\" onclick=\"convertToInteractive('df-fbc04dd8-d6ee-43b4-bfb1-a0b5a34ac501')\"\n",
              "              title=\"Convert this dataframe to an interactive table.\"\n",
              "              style=\"display:none;\">\n",
              "        \n",
              "  <svg xmlns=\"http://www.w3.org/2000/svg\" height=\"24px\"viewBox=\"0 0 24 24\"\n",
              "       width=\"24px\">\n",
              "    <path d=\"M0 0h24v24H0V0z\" fill=\"none\"/>\n",
              "    <path d=\"M18.56 5.44l.94 2.06.94-2.06 2.06-.94-2.06-.94-.94-2.06-.94 2.06-2.06.94zm-11 1L8.5 8.5l.94-2.06 2.06-.94-2.06-.94L8.5 2.5l-.94 2.06-2.06.94zm10 10l.94 2.06.94-2.06 2.06-.94-2.06-.94-.94-2.06-.94 2.06-2.06.94z\"/><path d=\"M17.41 7.96l-1.37-1.37c-.4-.4-.92-.59-1.43-.59-.52 0-1.04.2-1.43.59L10.3 9.45l-7.72 7.72c-.78.78-.78 2.05 0 2.83L4 21.41c.39.39.9.59 1.41.59.51 0 1.02-.2 1.41-.59l7.78-7.78 2.81-2.81c.8-.78.8-2.07 0-2.86zM5.41 20L4 18.59l7.72-7.72 1.47 1.35L5.41 20z\"/>\n",
              "  </svg>\n",
              "      </button>\n",
              "      \n",
              "  <style>\n",
              "    .colab-df-container {\n",
              "      display:flex;\n",
              "      flex-wrap:wrap;\n",
              "      gap: 12px;\n",
              "    }\n",
              "\n",
              "    .colab-df-convert {\n",
              "      background-color: #E8F0FE;\n",
              "      border: none;\n",
              "      border-radius: 50%;\n",
              "      cursor: pointer;\n",
              "      display: none;\n",
              "      fill: #1967D2;\n",
              "      height: 32px;\n",
              "      padding: 0 0 0 0;\n",
              "      width: 32px;\n",
              "    }\n",
              "\n",
              "    .colab-df-convert:hover {\n",
              "      background-color: #E2EBFA;\n",
              "      box-shadow: 0px 1px 2px rgba(60, 64, 67, 0.3), 0px 1px 3px 1px rgba(60, 64, 67, 0.15);\n",
              "      fill: #174EA6;\n",
              "    }\n",
              "\n",
              "    [theme=dark] .colab-df-convert {\n",
              "      background-color: #3B4455;\n",
              "      fill: #D2E3FC;\n",
              "    }\n",
              "\n",
              "    [theme=dark] .colab-df-convert:hover {\n",
              "      background-color: #434B5C;\n",
              "      box-shadow: 0px 1px 3px 1px rgba(0, 0, 0, 0.15);\n",
              "      filter: drop-shadow(0px 1px 2px rgba(0, 0, 0, 0.3));\n",
              "      fill: #FFFFFF;\n",
              "    }\n",
              "  </style>\n",
              "\n",
              "      <script>\n",
              "        const buttonEl =\n",
              "          document.querySelector('#df-fbc04dd8-d6ee-43b4-bfb1-a0b5a34ac501 button.colab-df-convert');\n",
              "        buttonEl.style.display =\n",
              "          google.colab.kernel.accessAllowed ? 'block' : 'none';\n",
              "\n",
              "        async function convertToInteractive(key) {\n",
              "          const element = document.querySelector('#df-fbc04dd8-d6ee-43b4-bfb1-a0b5a34ac501');\n",
              "          const dataTable =\n",
              "            await google.colab.kernel.invokeFunction('convertToInteractive',\n",
              "                                                     [key], {});\n",
              "          if (!dataTable) return;\n",
              "\n",
              "          const docLinkHtml = 'Like what you see? Visit the ' +\n",
              "            '<a target=\"_blank\" href=https://colab.research.google.com/notebooks/data_table.ipynb>data table notebook</a>'\n",
              "            + ' to learn more about interactive tables.';\n",
              "          element.innerHTML = '';\n",
              "          dataTable['output_type'] = 'display_data';\n",
              "          await google.colab.output.renderOutput(dataTable, element);\n",
              "          const docLink = document.createElement('div');\n",
              "          docLink.innerHTML = docLinkHtml;\n",
              "          element.appendChild(docLink);\n",
              "        }\n",
              "      </script>\n",
              "    </div>\n",
              "  </div>\n",
              "  "
            ],
            "text/plain": [
              "                                                    url  ...        date\n",
              "topic                                                    ...            \n",
              "Библиотека   https://lenta.ru/news/1914/09/16/hungarnn/  ...  1914/09/16\n",
              "Библиотека  https://lenta.ru/news/1914/09/16/lermontov/  ...  1914/09/16\n",
              "Библиотека  https://lenta.ru/news/1914/09/17/nesteroff/  ...  1914/09/17\n",
              "Библиотека   https://lenta.ru/news/1914/09/17/bulldogn/  ...  1914/09/17\n",
              "Библиотека       https://lenta.ru/news/1914/09/18/zver/  ...  1914/09/18\n",
              "\n",
              "[5 rows x 5 columns]"
            ]
          },
          "metadata": {},
          "execution_count": 12
        }
      ]
    },
    {
      "cell_type": "code",
      "source": [
        "df_work= df_cleaned.loc[df_cleaned.index.isin(['Экономика','Мир', \"Россия\"])]\n",
        "df_work. groupby(df_work.index).count()"
      ],
      "metadata": {
        "id": "gF85CA5aMcBs",
        "colab": {
          "base_uri": "https://localhost:8080/",
          "height": 175
        },
        "outputId": "b3f1fc2b-c13d-4369-da11-cb059b98043f"
      },
      "execution_count": null,
      "outputs": [
        {
          "output_type": "execute_result",
          "data": {
            "text/html": [
              "\n",
              "  <div id=\"df-b1a37c14-16bf-48ca-84f6-99d7aefb1c4e\">\n",
              "    <div class=\"colab-df-container\">\n",
              "      <div>\n",
              "<style scoped>\n",
              "    .dataframe tbody tr th:only-of-type {\n",
              "        vertical-align: middle;\n",
              "    }\n",
              "\n",
              "    .dataframe tbody tr th {\n",
              "        vertical-align: top;\n",
              "    }\n",
              "\n",
              "    .dataframe thead th {\n",
              "        text-align: right;\n",
              "    }\n",
              "</style>\n",
              "<table border=\"1\" class=\"dataframe\">\n",
              "  <thead>\n",
              "    <tr style=\"text-align: right;\">\n",
              "      <th></th>\n",
              "      <th>url</th>\n",
              "      <th>title</th>\n",
              "      <th>text</th>\n",
              "      <th>tags</th>\n",
              "      <th>date</th>\n",
              "    </tr>\n",
              "    <tr>\n",
              "      <th>topic</th>\n",
              "      <th></th>\n",
              "      <th></th>\n",
              "      <th></th>\n",
              "      <th></th>\n",
              "      <th></th>\n",
              "    </tr>\n",
              "  </thead>\n",
              "  <tbody>\n",
              "    <tr>\n",
              "      <th>Мир</th>\n",
              "      <td>136620</td>\n",
              "      <td>136620</td>\n",
              "      <td>136620</td>\n",
              "      <td>136620</td>\n",
              "      <td>136620</td>\n",
              "    </tr>\n",
              "    <tr>\n",
              "      <th>Россия</th>\n",
              "      <td>155004</td>\n",
              "      <td>155004</td>\n",
              "      <td>155004</td>\n",
              "      <td>155004</td>\n",
              "      <td>155004</td>\n",
              "    </tr>\n",
              "    <tr>\n",
              "      <th>Экономика</th>\n",
              "      <td>76423</td>\n",
              "      <td>76423</td>\n",
              "      <td>76423</td>\n",
              "      <td>76423</td>\n",
              "      <td>76423</td>\n",
              "    </tr>\n",
              "  </tbody>\n",
              "</table>\n",
              "</div>\n",
              "      <button class=\"colab-df-convert\" onclick=\"convertToInteractive('df-b1a37c14-16bf-48ca-84f6-99d7aefb1c4e')\"\n",
              "              title=\"Convert this dataframe to an interactive table.\"\n",
              "              style=\"display:none;\">\n",
              "        \n",
              "  <svg xmlns=\"http://www.w3.org/2000/svg\" height=\"24px\"viewBox=\"0 0 24 24\"\n",
              "       width=\"24px\">\n",
              "    <path d=\"M0 0h24v24H0V0z\" fill=\"none\"/>\n",
              "    <path d=\"M18.56 5.44l.94 2.06.94-2.06 2.06-.94-2.06-.94-.94-2.06-.94 2.06-2.06.94zm-11 1L8.5 8.5l.94-2.06 2.06-.94-2.06-.94L8.5 2.5l-.94 2.06-2.06.94zm10 10l.94 2.06.94-2.06 2.06-.94-2.06-.94-.94-2.06-.94 2.06-2.06.94z\"/><path d=\"M17.41 7.96l-1.37-1.37c-.4-.4-.92-.59-1.43-.59-.52 0-1.04.2-1.43.59L10.3 9.45l-7.72 7.72c-.78.78-.78 2.05 0 2.83L4 21.41c.39.39.9.59 1.41.59.51 0 1.02-.2 1.41-.59l7.78-7.78 2.81-2.81c.8-.78.8-2.07 0-2.86zM5.41 20L4 18.59l7.72-7.72 1.47 1.35L5.41 20z\"/>\n",
              "  </svg>\n",
              "      </button>\n",
              "      \n",
              "  <style>\n",
              "    .colab-df-container {\n",
              "      display:flex;\n",
              "      flex-wrap:wrap;\n",
              "      gap: 12px;\n",
              "    }\n",
              "\n",
              "    .colab-df-convert {\n",
              "      background-color: #E8F0FE;\n",
              "      border: none;\n",
              "      border-radius: 50%;\n",
              "      cursor: pointer;\n",
              "      display: none;\n",
              "      fill: #1967D2;\n",
              "      height: 32px;\n",
              "      padding: 0 0 0 0;\n",
              "      width: 32px;\n",
              "    }\n",
              "\n",
              "    .colab-df-convert:hover {\n",
              "      background-color: #E2EBFA;\n",
              "      box-shadow: 0px 1px 2px rgba(60, 64, 67, 0.3), 0px 1px 3px 1px rgba(60, 64, 67, 0.15);\n",
              "      fill: #174EA6;\n",
              "    }\n",
              "\n",
              "    [theme=dark] .colab-df-convert {\n",
              "      background-color: #3B4455;\n",
              "      fill: #D2E3FC;\n",
              "    }\n",
              "\n",
              "    [theme=dark] .colab-df-convert:hover {\n",
              "      background-color: #434B5C;\n",
              "      box-shadow: 0px 1px 3px 1px rgba(0, 0, 0, 0.15);\n",
              "      filter: drop-shadow(0px 1px 2px rgba(0, 0, 0, 0.3));\n",
              "      fill: #FFFFFF;\n",
              "    }\n",
              "  </style>\n",
              "\n",
              "      <script>\n",
              "        const buttonEl =\n",
              "          document.querySelector('#df-b1a37c14-16bf-48ca-84f6-99d7aefb1c4e button.colab-df-convert');\n",
              "        buttonEl.style.display =\n",
              "          google.colab.kernel.accessAllowed ? 'block' : 'none';\n",
              "\n",
              "        async function convertToInteractive(key) {\n",
              "          const element = document.querySelector('#df-b1a37c14-16bf-48ca-84f6-99d7aefb1c4e');\n",
              "          const dataTable =\n",
              "            await google.colab.kernel.invokeFunction('convertToInteractive',\n",
              "                                                     [key], {});\n",
              "          if (!dataTable) return;\n",
              "\n",
              "          const docLinkHtml = 'Like what you see? Visit the ' +\n",
              "            '<a target=\"_blank\" href=https://colab.research.google.com/notebooks/data_table.ipynb>data table notebook</a>'\n",
              "            + ' to learn more about interactive tables.';\n",
              "          element.innerHTML = '';\n",
              "          dataTable['output_type'] = 'display_data';\n",
              "          await google.colab.output.renderOutput(dataTable, element);\n",
              "          const docLink = document.createElement('div');\n",
              "          docLink.innerHTML = docLinkHtml;\n",
              "          element.appendChild(docLink);\n",
              "        }\n",
              "      </script>\n",
              "    </div>\n",
              "  </div>\n",
              "  "
            ],
            "text/plain": [
              "              url   title    text    tags    date\n",
              "topic                                            \n",
              "Мир        136620  136620  136620  136620  136620\n",
              "Россия     155004  155004  155004  155004  155004\n",
              "Экономика   76423   76423   76423   76423   76423"
            ]
          },
          "metadata": {},
          "execution_count": 13
        }
      ]
    },
    {
      "cell_type": "code",
      "source": [
        "articles= df_work.drop([\"url\", \"title\", \"tags\", \"date\"], axis=1)"
      ],
      "metadata": {
        "id": "h7-GEEkFvWj2"
      },
      "execution_count": null,
      "outputs": []
    },
    {
      "cell_type": "code",
      "source": [
        "articles"
      ],
      "metadata": {
        "colab": {
          "base_uri": "https://localhost:8080/",
          "height": 455
        },
        "id": "c4KyqMEfBufA",
        "outputId": "7ecea9e0-a7ed-49cb-e353-7147254c8a95"
      },
      "execution_count": null,
      "outputs": [
        {
          "output_type": "execute_result",
          "data": {
            "text/html": [
              "\n",
              "  <div id=\"df-8b8752a7-571c-4f76-a15d-212485ad59ce\">\n",
              "    <div class=\"colab-df-container\">\n",
              "      <div>\n",
              "<style scoped>\n",
              "    .dataframe tbody tr th:only-of-type {\n",
              "        vertical-align: middle;\n",
              "    }\n",
              "\n",
              "    .dataframe tbody tr th {\n",
              "        vertical-align: top;\n",
              "    }\n",
              "\n",
              "    .dataframe thead th {\n",
              "        text-align: right;\n",
              "    }\n",
              "</style>\n",
              "<table border=\"1\" class=\"dataframe\">\n",
              "  <thead>\n",
              "    <tr style=\"text-align: right;\">\n",
              "      <th></th>\n",
              "      <th>text</th>\n",
              "    </tr>\n",
              "    <tr>\n",
              "      <th>topic</th>\n",
              "      <th></th>\n",
              "    </tr>\n",
              "  </thead>\n",
              "  <tbody>\n",
              "    <tr>\n",
              "      <th>Россия</th>\n",
              "      <td>Как стало известно агентству Ассошиэйтед Пресс...</td>\n",
              "    </tr>\n",
              "    <tr>\n",
              "      <th>Россия</th>\n",
              "      <td>В зале игровых автоматов в третьем ярусе подзе...</td>\n",
              "    </tr>\n",
              "    <tr>\n",
              "      <th>Россия</th>\n",
              "      <td>Япония приняла решение разморозить кредиты Рос...</td>\n",
              "    </tr>\n",
              "    <tr>\n",
              "      <th>Мир</th>\n",
              "      <td>Британцы отмечают сегодня скорбную дату - втор...</td>\n",
              "    </tr>\n",
              "    <tr>\n",
              "      <th>Россия</th>\n",
              "      <td>В понедельник директор департамента внешних св...</td>\n",
              "    </tr>\n",
              "    <tr>\n",
              "      <th>...</th>\n",
              "      <td>...</td>\n",
              "    </tr>\n",
              "    <tr>\n",
              "      <th>Мир</th>\n",
              "      <td>Федеральный суд в техасском городе Форт-Уорт о...</td>\n",
              "    </tr>\n",
              "    <tr>\n",
              "      <th>Мир</th>\n",
              "      <td>Россия призвала Китай принять участие в перего...</td>\n",
              "    </tr>\n",
              "    <tr>\n",
              "      <th>Россия</th>\n",
              "      <td>Президент России Владимир Путин организовал дл...</td>\n",
              "    </tr>\n",
              "    <tr>\n",
              "      <th>Мир</th>\n",
              "      <td>Протесты движения «желтых жилетов» в Париже сн...</td>\n",
              "    </tr>\n",
              "    <tr>\n",
              "      <th>Россия</th>\n",
              "      <td>Президент России Владимир Путин рассказал, что...</td>\n",
              "    </tr>\n",
              "  </tbody>\n",
              "</table>\n",
              "<p>368047 rows × 1 columns</p>\n",
              "</div>\n",
              "      <button class=\"colab-df-convert\" onclick=\"convertToInteractive('df-8b8752a7-571c-4f76-a15d-212485ad59ce')\"\n",
              "              title=\"Convert this dataframe to an interactive table.\"\n",
              "              style=\"display:none;\">\n",
              "        \n",
              "  <svg xmlns=\"http://www.w3.org/2000/svg\" height=\"24px\"viewBox=\"0 0 24 24\"\n",
              "       width=\"24px\">\n",
              "    <path d=\"M0 0h24v24H0V0z\" fill=\"none\"/>\n",
              "    <path d=\"M18.56 5.44l.94 2.06.94-2.06 2.06-.94-2.06-.94-.94-2.06-.94 2.06-2.06.94zm-11 1L8.5 8.5l.94-2.06 2.06-.94-2.06-.94L8.5 2.5l-.94 2.06-2.06.94zm10 10l.94 2.06.94-2.06 2.06-.94-2.06-.94-.94-2.06-.94 2.06-2.06.94z\"/><path d=\"M17.41 7.96l-1.37-1.37c-.4-.4-.92-.59-1.43-.59-.52 0-1.04.2-1.43.59L10.3 9.45l-7.72 7.72c-.78.78-.78 2.05 0 2.83L4 21.41c.39.39.9.59 1.41.59.51 0 1.02-.2 1.41-.59l7.78-7.78 2.81-2.81c.8-.78.8-2.07 0-2.86zM5.41 20L4 18.59l7.72-7.72 1.47 1.35L5.41 20z\"/>\n",
              "  </svg>\n",
              "      </button>\n",
              "      \n",
              "  <style>\n",
              "    .colab-df-container {\n",
              "      display:flex;\n",
              "      flex-wrap:wrap;\n",
              "      gap: 12px;\n",
              "    }\n",
              "\n",
              "    .colab-df-convert {\n",
              "      background-color: #E8F0FE;\n",
              "      border: none;\n",
              "      border-radius: 50%;\n",
              "      cursor: pointer;\n",
              "      display: none;\n",
              "      fill: #1967D2;\n",
              "      height: 32px;\n",
              "      padding: 0 0 0 0;\n",
              "      width: 32px;\n",
              "    }\n",
              "\n",
              "    .colab-df-convert:hover {\n",
              "      background-color: #E2EBFA;\n",
              "      box-shadow: 0px 1px 2px rgba(60, 64, 67, 0.3), 0px 1px 3px 1px rgba(60, 64, 67, 0.15);\n",
              "      fill: #174EA6;\n",
              "    }\n",
              "\n",
              "    [theme=dark] .colab-df-convert {\n",
              "      background-color: #3B4455;\n",
              "      fill: #D2E3FC;\n",
              "    }\n",
              "\n",
              "    [theme=dark] .colab-df-convert:hover {\n",
              "      background-color: #434B5C;\n",
              "      box-shadow: 0px 1px 3px 1px rgba(0, 0, 0, 0.15);\n",
              "      filter: drop-shadow(0px 1px 2px rgba(0, 0, 0, 0.3));\n",
              "      fill: #FFFFFF;\n",
              "    }\n",
              "  </style>\n",
              "\n",
              "      <script>\n",
              "        const buttonEl =\n",
              "          document.querySelector('#df-8b8752a7-571c-4f76-a15d-212485ad59ce button.colab-df-convert');\n",
              "        buttonEl.style.display =\n",
              "          google.colab.kernel.accessAllowed ? 'block' : 'none';\n",
              "\n",
              "        async function convertToInteractive(key) {\n",
              "          const element = document.querySelector('#df-8b8752a7-571c-4f76-a15d-212485ad59ce');\n",
              "          const dataTable =\n",
              "            await google.colab.kernel.invokeFunction('convertToInteractive',\n",
              "                                                     [key], {});\n",
              "          if (!dataTable) return;\n",
              "\n",
              "          const docLinkHtml = 'Like what you see? Visit the ' +\n",
              "            '<a target=\"_blank\" href=https://colab.research.google.com/notebooks/data_table.ipynb>data table notebook</a>'\n",
              "            + ' to learn more about interactive tables.';\n",
              "          element.innerHTML = '';\n",
              "          dataTable['output_type'] = 'display_data';\n",
              "          await google.colab.output.renderOutput(dataTable, element);\n",
              "          const docLink = document.createElement('div');\n",
              "          docLink.innerHTML = docLinkHtml;\n",
              "          element.appendChild(docLink);\n",
              "        }\n",
              "      </script>\n",
              "    </div>\n",
              "  </div>\n",
              "  "
            ],
            "text/plain": [
              "                                                     text\n",
              "topic                                                    \n",
              "Россия  Как стало известно агентству Ассошиэйтед Пресс...\n",
              "Россия  В зале игровых автоматов в третьем ярусе подзе...\n",
              "Россия  Япония приняла решение разморозить кредиты Рос...\n",
              "Мир     Британцы отмечают сегодня скорбную дату - втор...\n",
              "Россия  В понедельник директор департамента внешних св...\n",
              "...                                                   ...\n",
              "Мир     Федеральный суд в техасском городе Форт-Уорт о...\n",
              "Мир     Россия призвала Китай принять участие в перего...\n",
              "Россия  Президент России Владимир Путин организовал дл...\n",
              "Мир     Протесты движения «желтых жилетов» в Париже сн...\n",
              "Россия  Президент России Владимир Путин рассказал, что...\n",
              "\n",
              "[368047 rows x 1 columns]"
            ]
          },
          "metadata": {},
          "execution_count": 15
        }
      ]
    },
    {
      "cell_type": "code",
      "source": [
        "def cleaned_df(df, field):\n",
        " df[field] = df[field].str.lower()\n",
        " df[field] = df[field].str.strip(\"\\t\")\n",
        " df[field] = df[field].str.replace(r\"@\\S+ http\\S+\", \"\")\n",
        " df[field] = df[field].str.replace(r\"[^А-Яа-я() A-Za-z()\\'\\-\\`\\\"\\_\\n]\", \" \")\n",
        " df[field] = df[field].str.replace(r\"\\(.*\\)\",\"\")\n",
        " df[field] = df[field].str.replace(r'\"' ,\" \")\n",
        " df[field] = df[field].str.replace(r'-' ,\" \")\n",
        " return df"
      ],
      "metadata": {
        "id": "EMhB0S6lBtlt"
      },
      "execution_count": null,
      "outputs": []
    },
    {
      "cell_type": "code",
      "source": [
        "cleaned_df(articles, \"text\")"
      ],
      "metadata": {
        "colab": {
          "base_uri": "https://localhost:8080/",
          "height": 559
        },
        "id": "_Ak0wa0lBxk7",
        "outputId": "3b897ddc-331a-4a79-a30b-4e99132c2465"
      },
      "execution_count": null,
      "outputs": [
        {
          "output_type": "stream",
          "name": "stderr",
          "text": [
            "/usr/local/lib/python3.7/dist-packages/ipykernel_launcher.py:4: FutureWarning: The default value of regex will change from True to False in a future version.\n",
            "  after removing the cwd from sys.path.\n",
            "/usr/local/lib/python3.7/dist-packages/ipykernel_launcher.py:5: FutureWarning: The default value of regex will change from True to False in a future version.\n",
            "  \"\"\"\n",
            "/usr/local/lib/python3.7/dist-packages/ipykernel_launcher.py:6: FutureWarning: The default value of regex will change from True to False in a future version.\n",
            "  \n"
          ]
        },
        {
          "output_type": "execute_result",
          "data": {
            "text/html": [
              "\n",
              "  <div id=\"df-6d832626-7fab-4a7a-93ee-0db6ad4cc0b0\">\n",
              "    <div class=\"colab-df-container\">\n",
              "      <div>\n",
              "<style scoped>\n",
              "    .dataframe tbody tr th:only-of-type {\n",
              "        vertical-align: middle;\n",
              "    }\n",
              "\n",
              "    .dataframe tbody tr th {\n",
              "        vertical-align: top;\n",
              "    }\n",
              "\n",
              "    .dataframe thead th {\n",
              "        text-align: right;\n",
              "    }\n",
              "</style>\n",
              "<table border=\"1\" class=\"dataframe\">\n",
              "  <thead>\n",
              "    <tr style=\"text-align: right;\">\n",
              "      <th></th>\n",
              "      <th>text</th>\n",
              "    </tr>\n",
              "    <tr>\n",
              "      <th>topic</th>\n",
              "      <th></th>\n",
              "    </tr>\n",
              "  </thead>\n",
              "  <tbody>\n",
              "    <tr>\n",
              "      <th>Россия</th>\n",
              "      <td>как стало известно агентству ассошиэйтед пресс...</td>\n",
              "    </tr>\n",
              "    <tr>\n",
              "      <th>Россия</th>\n",
              "      <td>в зале игровых автоматов в третьем ярусе подзе...</td>\n",
              "    </tr>\n",
              "    <tr>\n",
              "      <th>Россия</th>\n",
              "      <td>япония приняла решение разморозить кредиты рос...</td>\n",
              "    </tr>\n",
              "    <tr>\n",
              "      <th>Мир</th>\n",
              "      <td>британцы отмечают сегодня скорбную дату   втор...</td>\n",
              "    </tr>\n",
              "    <tr>\n",
              "      <th>Россия</th>\n",
              "      <td>в понедельник директор департамента внешних св...</td>\n",
              "    </tr>\n",
              "    <tr>\n",
              "      <th>...</th>\n",
              "      <td>...</td>\n",
              "    </tr>\n",
              "    <tr>\n",
              "      <th>Мир</th>\n",
              "      <td>федеральный суд в техасском городе форт уорт о...</td>\n",
              "    </tr>\n",
              "    <tr>\n",
              "      <th>Мир</th>\n",
              "      <td>россия призвала китай принять участие в перего...</td>\n",
              "    </tr>\n",
              "    <tr>\n",
              "      <th>Россия</th>\n",
              "      <td>президент россии владимир путин организовал дл...</td>\n",
              "    </tr>\n",
              "    <tr>\n",
              "      <th>Мир</th>\n",
              "      <td>протесты движения  желтых жилетов  в париже сн...</td>\n",
              "    </tr>\n",
              "    <tr>\n",
              "      <th>Россия</th>\n",
              "      <td>президент россии владимир путин рассказал  что...</td>\n",
              "    </tr>\n",
              "  </tbody>\n",
              "</table>\n",
              "<p>368047 rows × 1 columns</p>\n",
              "</div>\n",
              "      <button class=\"colab-df-convert\" onclick=\"convertToInteractive('df-6d832626-7fab-4a7a-93ee-0db6ad4cc0b0')\"\n",
              "              title=\"Convert this dataframe to an interactive table.\"\n",
              "              style=\"display:none;\">\n",
              "        \n",
              "  <svg xmlns=\"http://www.w3.org/2000/svg\" height=\"24px\"viewBox=\"0 0 24 24\"\n",
              "       width=\"24px\">\n",
              "    <path d=\"M0 0h24v24H0V0z\" fill=\"none\"/>\n",
              "    <path d=\"M18.56 5.44l.94 2.06.94-2.06 2.06-.94-2.06-.94-.94-2.06-.94 2.06-2.06.94zm-11 1L8.5 8.5l.94-2.06 2.06-.94-2.06-.94L8.5 2.5l-.94 2.06-2.06.94zm10 10l.94 2.06.94-2.06 2.06-.94-2.06-.94-.94-2.06-.94 2.06-2.06.94z\"/><path d=\"M17.41 7.96l-1.37-1.37c-.4-.4-.92-.59-1.43-.59-.52 0-1.04.2-1.43.59L10.3 9.45l-7.72 7.72c-.78.78-.78 2.05 0 2.83L4 21.41c.39.39.9.59 1.41.59.51 0 1.02-.2 1.41-.59l7.78-7.78 2.81-2.81c.8-.78.8-2.07 0-2.86zM5.41 20L4 18.59l7.72-7.72 1.47 1.35L5.41 20z\"/>\n",
              "  </svg>\n",
              "      </button>\n",
              "      \n",
              "  <style>\n",
              "    .colab-df-container {\n",
              "      display:flex;\n",
              "      flex-wrap:wrap;\n",
              "      gap: 12px;\n",
              "    }\n",
              "\n",
              "    .colab-df-convert {\n",
              "      background-color: #E8F0FE;\n",
              "      border: none;\n",
              "      border-radius: 50%;\n",
              "      cursor: pointer;\n",
              "      display: none;\n",
              "      fill: #1967D2;\n",
              "      height: 32px;\n",
              "      padding: 0 0 0 0;\n",
              "      width: 32px;\n",
              "    }\n",
              "\n",
              "    .colab-df-convert:hover {\n",
              "      background-color: #E2EBFA;\n",
              "      box-shadow: 0px 1px 2px rgba(60, 64, 67, 0.3), 0px 1px 3px 1px rgba(60, 64, 67, 0.15);\n",
              "      fill: #174EA6;\n",
              "    }\n",
              "\n",
              "    [theme=dark] .colab-df-convert {\n",
              "      background-color: #3B4455;\n",
              "      fill: #D2E3FC;\n",
              "    }\n",
              "\n",
              "    [theme=dark] .colab-df-convert:hover {\n",
              "      background-color: #434B5C;\n",
              "      box-shadow: 0px 1px 3px 1px rgba(0, 0, 0, 0.15);\n",
              "      filter: drop-shadow(0px 1px 2px rgba(0, 0, 0, 0.3));\n",
              "      fill: #FFFFFF;\n",
              "    }\n",
              "  </style>\n",
              "\n",
              "      <script>\n",
              "        const buttonEl =\n",
              "          document.querySelector('#df-6d832626-7fab-4a7a-93ee-0db6ad4cc0b0 button.colab-df-convert');\n",
              "        buttonEl.style.display =\n",
              "          google.colab.kernel.accessAllowed ? 'block' : 'none';\n",
              "\n",
              "        async function convertToInteractive(key) {\n",
              "          const element = document.querySelector('#df-6d832626-7fab-4a7a-93ee-0db6ad4cc0b0');\n",
              "          const dataTable =\n",
              "            await google.colab.kernel.invokeFunction('convertToInteractive',\n",
              "                                                     [key], {});\n",
              "          if (!dataTable) return;\n",
              "\n",
              "          const docLinkHtml = 'Like what you see? Visit the ' +\n",
              "            '<a target=\"_blank\" href=https://colab.research.google.com/notebooks/data_table.ipynb>data table notebook</a>'\n",
              "            + ' to learn more about interactive tables.';\n",
              "          element.innerHTML = '';\n",
              "          dataTable['output_type'] = 'display_data';\n",
              "          await google.colab.output.renderOutput(dataTable, element);\n",
              "          const docLink = document.createElement('div');\n",
              "          docLink.innerHTML = docLinkHtml;\n",
              "          element.appendChild(docLink);\n",
              "        }\n",
              "      </script>\n",
              "    </div>\n",
              "  </div>\n",
              "  "
            ],
            "text/plain": [
              "                                                     text\n",
              "topic                                                    \n",
              "Россия  как стало известно агентству ассошиэйтед пресс...\n",
              "Россия  в зале игровых автоматов в третьем ярусе подзе...\n",
              "Россия  япония приняла решение разморозить кредиты рос...\n",
              "Мир     британцы отмечают сегодня скорбную дату   втор...\n",
              "Россия  в понедельник директор департамента внешних св...\n",
              "...                                                   ...\n",
              "Мир     федеральный суд в техасском городе форт уорт о...\n",
              "Мир     россия призвала китай принять участие в перего...\n",
              "Россия  президент россии владимир путин организовал дл...\n",
              "Мир     протесты движения  желтых жилетов  в париже сн...\n",
              "Россия  президент россии владимир путин рассказал  что...\n",
              "\n",
              "[368047 rows x 1 columns]"
            ]
          },
          "metadata": {},
          "execution_count": 17
        }
      ]
    },
    {
      "cell_type": "code",
      "source": [
        "stops=set(stopwords.words('russian'))\n",
        "articles[\"text\"] = articles[\"text\"].apply(lambda x: ' '.join([word for word in x.split() if word not in (stops)]))\n",
        "print(articles[\"text\"])"
      ],
      "metadata": {
        "id": "-oWwg7r8IGln"
      },
      "execution_count": null,
      "outputs": []
    },
    {
      "cell_type": "code",
      "source": [
        "articles.to_csv('articles.csv')"
      ],
      "metadata": {
        "id": "g-eeW7foAZR4"
      },
      "execution_count": null,
      "outputs": []
    },
    {
      "cell_type": "code",
      "source": [
        "df=pd.read_csv(\"articles.csv\")"
      ],
      "metadata": {
        "id": "SxTwrMPkftJC"
      },
      "execution_count": null,
      "outputs": []
    },
    {
      "cell_type": "markdown",
      "source": [
        "Training and classification."
      ],
      "metadata": {
        "id": "HnojdUjXLVAM"
      }
    },
    {
      "cell_type": "code",
      "source": [
        "X_train, X_test, y_train,  y_test = train_test_split(df['text'], df['topic'], test_size=0.2)\n",
        "print(y_train.shape)"
      ],
      "metadata": {
        "id": "scPyhtbHXCKB",
        "colab": {
          "base_uri": "https://localhost:8080/"
        },
        "outputId": "de94ce61-aa58-47b0-9e75-b8bb2a0e9aad"
      },
      "execution_count": null,
      "outputs": [
        {
          "output_type": "stream",
          "name": "stdout",
          "text": [
            "(275628,)\n"
          ]
        }
      ]
    },
    {
      "cell_type": "code",
      "source": [
        "print(y_test.shape)"
      ],
      "metadata": {
        "colab": {
          "base_uri": "https://localhost:8080/"
        },
        "id": "m21X0Myxac8f",
        "outputId": "3744bfbe-f02d-44ff-8e12-c73ee755e361"
      },
      "execution_count": null,
      "outputs": [
        {
          "output_type": "stream",
          "name": "stdout",
          "text": [
            "(73610,)\n"
          ]
        }
      ]
    },
    {
      "cell_type": "code",
      "source": [
        "classifier = SGDClassifier(random_state=1)\n",
        "vectorizer=CountVectorizer()\n",
        "\n",
        "model = Pipeline([\n",
        "    ('vectorizer', vectorizer),\n",
        "    ('classifier', classifier)\n",
        "])\n",
        "\n",
        "model.fit(X_train, y_train)\n",
        "preds = model.predict(X_test)\n"
      ],
      "metadata": {
        "id": "pJamt3qDpPkQ"
      },
      "execution_count": null,
      "outputs": []
    },
    {
      "cell_type": "code",
      "source": [
        "SDG_simple_Count_score=accuracy_score(preds, y_test)\n",
        "SDG_simple_Count_presision =precision_score(preds, y_test, average=\"weighted\")\n",
        "print(SDG_simple_Count_score)\n",
        "print(SDG_simple_Count_presision)\n",
        "print(metrics.confusion_matrix(preds, y_test)) \n"
      ],
      "metadata": {
        "colab": {
          "base_uri": "https://localhost:8080/"
        },
        "id": "QGZRxeckpZS7",
        "outputId": "65c68e27-6854-45ea-fa08-23bfc0bc7614"
      },
      "execution_count": null,
      "outputs": [
        {
          "output_type": "stream",
          "name": "stdout",
          "text": [
            "0.9122945252003803\n",
            "0.9124208354433959\n",
            "[[25202  2304   534]\n",
            " [ 1774 27801   793]\n",
            " [  379   672 14151]]\n"
          ]
        }
      ]
    },
    {
      "cell_type": "code",
      "source": [
        "print(metrics.classification_report(preds, y_test))"
      ],
      "metadata": {
        "colab": {
          "base_uri": "https://localhost:8080/"
        },
        "id": "tBVYVNz_fDlJ",
        "outputId": "3ee74fa9-22fe-442a-cc83-1d74ce783813"
      },
      "execution_count": null,
      "outputs": [
        {
          "output_type": "stream",
          "name": "stdout",
          "text": [
            "              precision    recall  f1-score   support\n",
            "\n",
            "         Мир       0.92      0.90      0.91     28040\n",
            "      Россия       0.90      0.92      0.91     30368\n",
            "   Экономика       0.91      0.93      0.92     15202\n",
            "\n",
            "    accuracy                           0.91     73610\n",
            "   macro avg       0.91      0.92      0.91     73610\n",
            "weighted avg       0.91      0.91      0.91     73610\n",
            "\n"
          ]
        }
      ]
    },
    {
      "cell_type": "code",
      "source": [
        "cm = confusion_matrix(y_test, preds)\n",
        "\n",
        "print(cm)\n",
        "\n",
        "plt.matshow(cm)\n",
        "plt.title('Confusion matrix')\n",
        "plt.colorbar()\n",
        "plt.ylabel('True label')\n",
        "plt.xlabel('Predicted label')\n",
        "plt.show()"
      ],
      "metadata": {
        "colab": {
          "base_uri": "https://localhost:8080/",
          "height": 312
        },
        "id": "fbETtQyCmI8t",
        "outputId": "353b5340-a406-46a0-f20c-f541853655e7"
      },
      "execution_count": null,
      "outputs": [
        {
          "output_type": "stream",
          "name": "stdout",
          "text": [
            "[[25037  1951   364]\n",
            " [ 2185 28158   708]\n",
            " [  561   791 13855]]\n"
          ]
        },
        {
          "output_type": "display_data",
          "data": {
            "image/png": "[encoded data removed]",
            "text/plain": [
              "<Figure size 288x288 with 2 Axes>"
            ]
          },
          "metadata": {
            "needs_background": "light"
          }
        }
      ]
    },
    {
      "cell_type": "code",
      "source": [
        "model = word2vec.Word2Vec(df['text'], size=700, window=3, workers=4)\n",
        "w2v = dict(zip(model.wv.index2word, model.wv.vectors))"
      ],
      "metadata": {
        "id": "Z2iTrtu5YbiW"
      },
      "execution_count": null,
      "outputs": []
    },
    {
      "cell_type": "code",
      "source": [
        "class mean_vectorizer(object):\n",
        "    def __init__(self, word2vec):\n",
        "        self.word2vec = word2vec\n",
        "        self.dim = len(next(iter(w2v.values())))\n",
        "\n",
        "    def fit(self, X):\n",
        "        return self \n",
        "\n",
        "    def transform(self, X):\n",
        "        return np.array([\n",
        "            np.mean([self.word2vec[w] for w in words if w in self.word2vec] \n",
        "                    or [np.zeros(self.dim)], axis=0)\n",
        "            for words in X\n",
        "        ])"
      ],
      "metadata": {
        "id": "mPXU1jYAYdPK"
      },
      "execution_count": null,
      "outputs": []
    },
    {
      "cell_type": "markdown",
      "source": [
        "word2vec"
      ],
      "metadata": {
        "id": "33tofpNDnxN8"
      }
    },
    {
      "cell_type": "code",
      "source": [
        "model = word2vec.Word2Vec(df['text'], size=700, window=3, workers=4)\n",
        "w2v = dict(zip(model.wv.index2word, model.wv.vectors))"
      ],
      "metadata": {
        "id": "6mG8Ur8Ec-Mm"
      },
      "execution_count": null,
      "outputs": []
    },
    {
      "cell_type": "code",
      "source": [
        "class mean_vectorizer(object):\n",
        "    def __init__(self, word2vec):\n",
        "        self.word2vec = word2vec\n",
        "        self.dim = len(next(iter(w2v.values())))\n",
        "\n",
        "    def fit(self, X):\n",
        "        return self \n",
        "\n",
        "    def transform(self, X):\n",
        "        return np.array([\n",
        "            np.mean([self.word2vec[w] for w in words if w in self.word2vec] \n",
        "                    or [np.zeros(self.dim)], axis=0)\n",
        "            for words in X\n",
        "        ])"
      ],
      "metadata": {
        "id": "kv41kQ9dc_0N"
      },
      "execution_count": null,
      "outputs": []
    },
    {
      "cell_type": "code",
      "source": [
        "data_mean=mean_vectorizer(w2v).fit(df[\"text\"]).transform(df[\"text\"])\n",
        "data_mean.shape"
      ],
      "metadata": {
        "colab": {
          "base_uri": "https://localhost:8080/"
        },
        "id": "x1qatURtdFkF",
        "outputId": "1e0ddd41-7b7f-4096-ac41-bd501600c318"
      },
      "execution_count": null,
      "outputs": [
        {
          "output_type": "execute_result",
          "data": {
            "text/plain": [
              "(368047, 700)"
            ]
          },
          "metadata": {},
          "execution_count": 10
        }
      ]
    },
    {
      "cell_type": "code",
      "source": [
        "Xtr, Xval, ytr, yval = train_test_split(data_mean, df['topic'], test_size=0.2, random_state=1)"
      ],
      "metadata": {
        "id": "Ovp1DIY3dF2K"
      },
      "execution_count": null,
      "outputs": []
    },
    {
      "cell_type": "code",
      "source": [
        "model = SGDClassifier().fit(Xtr, ytr)\n",
        "pred = model.predict(Xval)"
      ],
      "metadata": {
        "id": "TYomvf5HdHtU"
      },
      "execution_count": null,
      "outputs": []
    },
    {
      "cell_type": "code",
      "source": [
        "SDG_simple_Count_score=accuracy_score(pred, yval)\n",
        "SDG_simple_Count_presision =precision_score(pred, yval, average=\"weighted\")\n",
        "print(SDG_simple_Count_score)\n",
        "print(SDG_simple_Count_presision)\n",
        "print(metrics.classification_report(pred, yval))"
      ],
      "metadata": {
        "colab": {
          "base_uri": "https://localhost:8080/"
        },
        "id": "_n-fm4LPdJLk",
        "outputId": "3be9eae5-f987-42c8-ff8e-464f71ddb1dc"
      },
      "execution_count": null,
      "outputs": [
        {
          "output_type": "stream",
          "name": "stdout",
          "text": [
            "0.893085178644206\n",
            "0.8933802239992948\n",
            "              precision    recall  f1-score   support\n",
            "\n",
            "         Мир       0.91      0.88      0.89     28161\n",
            "      Россия       0.88      0.90      0.89     30574\n",
            "   Экономика       0.89      0.91      0.90     14875\n",
            "\n",
            "    accuracy                           0.89     73610\n",
            "   macro avg       0.89      0.90      0.89     73610\n",
            "weighted avg       0.89      0.89      0.89     73610\n",
            "\n"
          ]
        }
      ]
    },
    {
      "cell_type": "markdown",
      "source": [
        "Features reduction"
      ],
      "metadata": {
        "id": "__MD1W7OnWVF"
      }
    },
    {
      "cell_type": "code",
      "source": [
        "classifier = SGDClassifier(random_state=1)\n",
        "vectorizer=CountVectorizer()\n",
        "\n",
        "model = Pipeline([\n",
        "               \n",
        "    ('vectorizer', vectorizer),\n",
        "    (\"svd\", TruncatedSVD(n_components=200, n_iter=7, random_state=42)), \n",
        "    ('classifier', classifier)\n",
        "])\n",
        "\n",
        "model.fit(X_train, y_train)\n",
        "preds = model.predict(X_test)"
      ],
      "metadata": {
        "id": "PErc9PlLxOya"
      },
      "execution_count": null,
      "outputs": []
    },
    {
      "cell_type": "code",
      "source": [
        "SDG_simple_Count_score=accuracy_score(preds, y_test)\n",
        "SDG_simple_Count_presision =precision_score(preds, y_test, average=\"weighted\")\n",
        "print(SDG_simple_Count_score)\n",
        "print(SDG_simple_Count_presision)\n",
        "print(metrics.classification_report(preds, y_test)) "
      ],
      "metadata": {
        "colab": {
          "base_uri": "https://localhost:8080/"
        },
        "id": "hiRhYHL3xQTG",
        "outputId": "a07315a2-5946-42ad-fee2-11a69932bfec"
      },
      "execution_count": null,
      "outputs": [
        {
          "output_type": "stream",
          "name": "stdout",
          "text": [
            "0.8718108952587964\n",
            "0.8724857216938121\n",
            "              precision    recall  f1-score   support\n",
            "\n",
            "         Мир       0.89      0.86      0.87     28463\n",
            "      Россия       0.85      0.89      0.87     29889\n",
            "   Экономика       0.87      0.87      0.87     15258\n",
            "\n",
            "    accuracy                           0.87     73610\n",
            "   macro avg       0.87      0.87      0.87     73610\n",
            "weighted avg       0.87      0.87      0.87     73610\n",
            "\n"
          ]
        }
      ]
    }
  ]
}